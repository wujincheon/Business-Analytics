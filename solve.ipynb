{
 "cells": [
  {
   "cell_type": "code",
   "execution_count": 4,
   "metadata": {},
   "outputs": [],
   "source": [
    "#문제 (4개 먼저)\n",
    "from sympy import Symbol, solve\n",
    "#구하려는 변수 \n",
    "Pct=Symbol('Pct')\n",
    "Pcj=Symbol('Pcj')\n",
    "Pst=Symbol('Pst')\n",
    "Psj=Symbol('Psj')\n",
    "#나중에 구할 변수 \n",
    "Psat=Symbol('Psat')\n",
    "\n",
    "#문자상수\n",
    "Eo=Symbol('Eo')\n",
    "Ec=Symbol('Ec')\n",
    "Es=Symbol('Es')\n",
    "\n",
    "M=Symbol('M')\n",
    "b=Symbol('b')\n",
    "r=Symbol('r')\n",
    "a=Symbol('a')\n",
    "\n",
    "Cc=Symbol('Cc')\n",
    "Cs=Symbol('Cs')"
   ]
  },
  {
   "cell_type": "code",
   "execution_count": 2,
   "metadata": {},
   "outputs": [
    {
     "ename": "NameError",
     "evalue": "name 'equation1' is not defined",
     "output_type": "error",
     "traceback": [
      "\u001b[1;31m---------------------------------------------------------------------------\u001b[0m",
      "\u001b[1;31mNameError\u001b[0m                                 Traceback (most recent call last)",
      "\u001b[1;32m<ipython-input-2-c35539c8b036>\u001b[0m in \u001b[0;36m<module>\u001b[1;34m()\u001b[0m\n\u001b[1;32m----> 1\u001b[1;33m \u001b[0msolve\u001b[0m\u001b[1;33m(\u001b[0m\u001b[1;33m(\u001b[0m\u001b[0mequation1\u001b[0m\u001b[1;33m,\u001b[0m\u001b[0mequation2\u001b[0m\u001b[1;33m,\u001b[0m\u001b[0mequation3\u001b[0m\u001b[1;33m,\u001b[0m\u001b[0mequation4\u001b[0m\u001b[1;33m)\u001b[0m\u001b[1;33m,\u001b[0m\u001b[0mPct\u001b[0m\u001b[1;33m,\u001b[0m\u001b[0mPcj\u001b[0m\u001b[1;33m,\u001b[0m\u001b[0mPst\u001b[0m\u001b[1;33m,\u001b[0m\u001b[0mPsj\u001b[0m\u001b[1;33m,\u001b[0m\u001b[0mdict\u001b[0m\u001b[1;33m=\u001b[0m\u001b[1;32mTrue\u001b[0m\u001b[1;33m)\u001b[0m\u001b[1;33m\u001b[0m\u001b[0m\n\u001b[0m",
      "\u001b[1;31mNameError\u001b[0m: name 'equation1' is not defined"
     ]
    }
   ],
   "source": [
    "solve((equation1,equation2,equation3,equation4),Pct,Pcj,Pst,Psj,dict=True)"
   ]
  },
  {
   "cell_type": "code",
   "execution_count": 9,
   "metadata": {},
   "outputs": [],
   "source": [
    "equation1=((2-Eo*M)*(1-Es+(((-4*Ec**3 - 10*Ec**2*Es + 2*Ec**2*Psat + 4*Ec**2 - 10*Ec*Eo*M - 4*Ec*Es**2 + 4*Ec*Es*Psat + 10*Ec*Es - 2*Ec*M*b*r + 18*Ec + Eo*Es*M + 3*Eo*M*Psat + 9*Eo*M + 4*Es**2 + 2*Es*M*b*r - 6*Psat - 18) -(-4*Ec**3 - 10*Ec**2*Es - 2*Ec**2*Psat + 4*Ec**2 - 8*Ec*Eo*M - 4*Ec*Es**2 - 4*Ec*Es*Psat + 10*Ec*Es + 2*Ec*M*b*r + 18*Ec - Eo*Es*M - 3*Eo*M*Psat + 9*Eo*M + 4*Es**2 - 2*Es*M*b*r + 6*Psat - 18))/(4*Ec**2 + 10*Ec*Es + 9*Eo*M + 4*Es**2 - 18))-Psat)+2*Es*(1-Ec+b*r*M+(((-2*Ec**2*Eo*M - 4*Ec**2*Es + 4*Ec**2 - 7*Ec*Eo*Es*M + Ec*Eo*M*Psat - 10*Ec*Es**2 - 4*Ec*Es*M*b*r + 10*Ec*Es - 2*Ec*Psat - 6*Eo**2*M**2 - 3*Eo*Es**2*M - Eo*Es*M*Psat - 9*Eo*Es*M - 3*Eo*M**2*b*r + 21*Eo*M - 4*Es**3 - 2*Es**2*M*b*r + 4*Es**2 + 2*Es*Psat + 18*Es + 6*M*b*r - 18)- (-2*Ec**2*Eo*M - 4*Ec**2*Es + 4*Ec**2 - 3*Ec*Eo*Es*M - Ec*Eo*M*Psat - 10*Ec*Es**2 + 4*Ec*Es*M*b*r + 10*Ec*Es + 2*Ec*Psat - 3*Eo**2*M**2 - Eo*Es**2*M + Eo*Es*M*Psat - 9*Eo*Es*M + 3*Eo*M**2*b*r + 15*Eo*M - 4*Es**3 + 2*Es**2*M*b*r + 4*Es**2 - 2*Es*Psat + 18*Es - 6*M*b*r - 18))/(4*Ec**2 + 10*Ec*Es + 9*Eo*M + 4*Es**2 - 18))))*(4*Ec**2+10*Ec*Es+9*Eo*M-18+4*Es**2)  + (3*Psat*(Eo*M-2)*(2*Es*Ec+Eo*M-2)) - (2*a*r*M*(Ec+2*Es)*(2*Ec*Es+Eo*M-2))\n"
   ]
  },
  {
   "cell_type": "code",
   "execution_count": 10,
   "metadata": {},
   "outputs": [
    {
     "data": {
      "text/plain": [
       "[{Psat: (4*Ec**2 - 2*Ec*Eo*M + 10*Ec*Es + 2*Ec*M*a*r - 4*Ec*M*b*r - Eo*Es*M + 9*Eo*M + 4*Es**2 + 4*Es*M*a*r - 2*Es*M*b*r - 18)/(6*(Eo*M - 2))}]"
      ]
     },
     "execution_count": 10,
     "metadata": {},
     "output_type": "execute_result"
    }
   ],
   "source": [
    "solve((equation1),Psat,dict=True)"
   ]
  }
 ],
 "metadata": {
  "kernelspec": {
   "display_name": "Python 3",
   "language": "python",
   "name": "python3"
  },
  "language_info": {
   "codemirror_mode": {
    "name": "ipython",
    "version": 3
   },
   "file_extension": ".py",
   "mimetype": "text/x-python",
   "name": "python",
   "nbconvert_exporter": "python",
   "pygments_lexer": "ipython3",
   "version": "3.6.5"
  }
 },
 "nbformat": 4,
 "nbformat_minor": 2
}
